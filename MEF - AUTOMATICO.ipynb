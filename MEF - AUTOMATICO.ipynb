{
 "cells": [
  {
   "cell_type": "code",
   "execution_count": 81,
   "id": "19b016c6",
   "metadata": {},
   "outputs": [],
   "source": [
    "import requests\n",
    "import re\n",
    "import pandas as pd\n",
    "from bs4 import BeautifulSoup\n",
    "import numpy as np"
   ]
  },
  {
   "cell_type": "code",
   "execution_count": 11,
   "id": "78b4426b",
   "metadata": {},
   "outputs": [
    {
     "data": {
      "text/html": [
       "<style>.container { width:99% ! important; }<style>"
      ],
      "text/plain": [
       "<IPython.core.display.HTML object>"
      ]
     },
     "metadata": {},
     "output_type": "display_data"
    }
   ],
   "source": [
    "from IPython.core.display import display, HTML\n",
    "display(HTML(\"<style>.container { width:99% ! important; }<style>\"))"
   ]
  },
  {
   "cell_type": "code",
   "execution_count": 8,
   "id": "797cff82",
   "metadata": {},
   "outputs": [],
   "source": [
    "m= requests.get(\"https://apps5.mineco.gob.pe/transparencia/mensual/Navegar_6.aspx?_uhc=yes&1=M&8=20&5=&y=2021&ap=Proyecto&cpage=1&psize=3000\")\n",
    "r= requests.get(\"https://apps5.mineco.gob.pe/transparencia/mensual/Navegar_6.aspx?_uhc=yes&1=R&8=20&5=&y=2021&ap=Proyecto&cpage=1&psize=3000\")"
   ]
  },
  {
   "cell_type": "code",
   "execution_count": 24,
   "id": "2133ed10",
   "metadata": {},
   "outputs": [],
   "source": [
    "soup = BeautifulSoup(r.text,'lxml')\n",
    "htmltable = soup.find('table', { 'class' : 'Data' })\n",
    "htmltable2=htmltable.findAll('td')"
   ]
  },
  {
   "cell_type": "code",
   "execution_count": 237,
   "id": "e7c70439",
   "metadata": {},
   "outputs": [],
   "source": [
    "E1=[]\n",
    "E2=[]\n",
    "E3=[]\n",
    "E4=[]\n",
    "E5=[]\n",
    "E6=[]"
   ]
  },
  {
   "cell_type": "code",
   "execution_count": 235,
   "id": "9db8df00",
   "metadata": {},
   "outputs": [],
   "source": [
    "anho=['2012','2013','2014','2015','2016','2017','2018','2019','2020','2021']\n",
    "funcion=['20','15','22','18','10','03','19']\n",
    "gob=['M','R']\n",
    "dpto=['01','02','03','04','05','06','07','08','09','10','11','12','13','14','15','16','17','18','19','20','21','22','23','24','25']"
   ]
  },
  {
   "cell_type": "code",
   "execution_count": 239,
   "id": "7febc55d",
   "metadata": {
    "scrolled": true
   },
   "outputs": [],
   "source": [
    "for a in anho:\n",
    "    for f in funcion:\n",
    "        for g in gob:\n",
    "            ab = \"https://apps5.mineco.gob.pe/transparencia/mensual/Navegar_6.aspx?_uhc=yes&1=\"\n",
    "            url = ab+str(g)+\"&8=\"+str(f)+\"&5=&y=\"+str(a)+\"&ap=Proyecto&cpage=1&psize=3000\"\n",
    "            r = requests.get(url)\n",
    "            soup = BeautifulSoup(r.text,'lxml')\n",
    "            htmltable_1 = soup.find('table', { 'class' : 'Data' })\n",
    "            for element in np.arange(1,len(htmltable_1.find_all('td'))):\n",
    "                if element%10==1:\n",
    "                    A= str(htmltable_1.find_all('td')[element].text.strip(\"\\r\\n\").strip())\n",
    "                    E1.append(str(a))\n",
    "                    E2.append(A[4:])\n",
    "                    E3.append(str(g))\n",
    "                    E4.append(str(f))\n",
    "                if element%10==3:\n",
    "                    Y=str(htmltable_1.find_all('td')[element].text.strip(\"\\r\\n\").strip())\n",
    "                    E5.append(Y)\n",
    "                if element%10==7:\n",
    "                    Z=str(htmltable_1.find_all('td')[element].text.strip(\"\\r\\n\").strip())\n",
    "                    E6.append(Z)\n",
    "        \n",
    "        ab=\"https://apps5.mineco.gob.pe/transparencia/mensual/Navegar_6.aspx?_uhc=yes&\"\n",
    "        url=ab+\"8=\"+str(f)+\"&5=&y=\"+str(a)+\"&ap=Proyecto&cpage=1&psize=3000\"\n",
    "        r = requests.get(url)\n",
    "        soup = BeautifulSoup(r.text,'lxml')\n",
    "        htmltable_1 = soup.find('table', { 'class' : 'Data' })\n",
    "        for element in np.arange(1,len(htmltable_1.find_all('td'))):\n",
    "            if element%10==1:\n",
    "                A= str(htmltable_1.find_all('td')[element].text.strip(\"\\r\\n\").strip())\n",
    "                E1.append(str(a))\n",
    "                E2.append(A[4:])\n",
    "                E3.append(\"Total\")\n",
    "                E4.append(str(f))\n",
    "            if element%10==3:\n",
    "                Y=str(htmltable_1.find_all('td')[element].text.strip(\"\\r\\n\").strip())\n",
    "                E5.append(Y)\n",
    "            if element%10==7:\n",
    "                Z=str(htmltable_1.find_all('td')[element].text.strip(\"\\r\\n\").strip())\n",
    "                E6.append(Z)\n",
    "    \n",
    "    ab=\"https://apps5.mineco.gob.pe/transparencia/mensual/Navegar_6.aspx?_uhc=yes&\"\n",
    "    url=ab+\"5=&y=\"+str(a)+\"&ap=Proyecto&cpage=1&psize=3000\"\n",
    "    r = requests.get(url)\n",
    "    soup = BeautifulSoup(r.text,'lxml')\n",
    "    htmltable_1 = soup.find('table', { 'class' : 'Data' })\n",
    "    for element in np.arange(1,len(htmltable_1.find_all('td'))):\n",
    "        if element%10==1:\n",
    "            A= str(htmltable_1.find_all('td')[element].text.strip(\"\\r\\n\").strip())\n",
    "            E1.append(str(a))\n",
    "            E2.append(A[4:])\n",
    "            E3.append(\"Total\")\n",
    "            E4.append(\"Total\")\n",
    "        if element%10==3:\n",
    "            Y=str(htmltable_1.find_all('td')[element].text.strip(\"\\r\\n\").strip())\n",
    "            E5.append(Y)\n",
    "        if element%10==7:\n",
    "            Z=str(htmltable_1.find_all('td')[element].text.strip(\"\\r\\n\").strip())\n",
    "            E6.append(Z)"
   ]
  },
  {
   "cell_type": "code",
   "execution_count": 240,
   "id": "e381b21e",
   "metadata": {},
   "outputs": [],
   "source": [
    "df=pd.DataFrame(columns=['Año','Departamento','Gobierno','Funcion','PIM','Devengado'])\n",
    "df[\"Año\"]=E1\n",
    "df[\"Departamento\"]=E2\n",
    "df[\"Gobierno\"]=E3\n",
    "df[\"Funcion\"]=E4\n",
    "df[\"PIM\"]=E5\n",
    "df[\"Devengado\"]=E6"
   ]
  },
  {
   "cell_type": "code",
   "execution_count": 241,
   "id": "79014f2a",
   "metadata": {},
   "outputs": [
    {
     "data": {
      "text/html": [
       "<div>\n",
       "<style scoped>\n",
       "    .dataframe tbody tr th:only-of-type {\n",
       "        vertical-align: middle;\n",
       "    }\n",
       "\n",
       "    .dataframe tbody tr th {\n",
       "        vertical-align: top;\n",
       "    }\n",
       "\n",
       "    .dataframe thead th {\n",
       "        text-align: right;\n",
       "    }\n",
       "</style>\n",
       "<table border=\"1\" class=\"dataframe\">\n",
       "  <thead>\n",
       "    <tr style=\"text-align: right;\">\n",
       "      <th></th>\n",
       "      <th>Año</th>\n",
       "      <th>Departamento</th>\n",
       "      <th>Gobierno</th>\n",
       "      <th>Funcion</th>\n",
       "      <th>PIM</th>\n",
       "      <th>Devengado</th>\n",
       "    </tr>\n",
       "  </thead>\n",
       "  <tbody>\n",
       "    <tr>\n",
       "      <th>0</th>\n",
       "      <td>2021</td>\n",
       "      <td>AMAZONAS</td>\n",
       "      <td>M</td>\n",
       "      <td>20</td>\n",
       "      <td>2,335,242</td>\n",
       "      <td>1,819,577</td>\n",
       "    </tr>\n",
       "    <tr>\n",
       "      <th>1</th>\n",
       "      <td>2021</td>\n",
       "      <td>ANCASH</td>\n",
       "      <td>M</td>\n",
       "      <td>20</td>\n",
       "      <td>35,413,285</td>\n",
       "      <td>19,218,220</td>\n",
       "    </tr>\n",
       "    <tr>\n",
       "      <th>2</th>\n",
       "      <td>2021</td>\n",
       "      <td>APURIMAC</td>\n",
       "      <td>M</td>\n",
       "      <td>20</td>\n",
       "      <td>74,353,775</td>\n",
       "      <td>52,181,701</td>\n",
       "    </tr>\n",
       "    <tr>\n",
       "      <th>3</th>\n",
       "      <td>2021</td>\n",
       "      <td>AREQUIPA</td>\n",
       "      <td>M</td>\n",
       "      <td>20</td>\n",
       "      <td>39,086,764</td>\n",
       "      <td>19,942,424</td>\n",
       "    </tr>\n",
       "    <tr>\n",
       "      <th>4</th>\n",
       "      <td>2021</td>\n",
       "      <td>AYACUCHO</td>\n",
       "      <td>M</td>\n",
       "      <td>20</td>\n",
       "      <td>49,700,087</td>\n",
       "      <td>18,912,425</td>\n",
       "    </tr>\n",
       "    <tr>\n",
       "      <th>...</th>\n",
       "      <td>...</td>\n",
       "      <td>...</td>\n",
       "      <td>...</td>\n",
       "      <td>...</td>\n",
       "      <td>...</td>\n",
       "      <td>...</td>\n",
       "    </tr>\n",
       "    <tr>\n",
       "      <th>533</th>\n",
       "      <td>2021</td>\n",
       "      <td>PUNO</td>\n",
       "      <td>Total</td>\n",
       "      <td>Total</td>\n",
       "      <td>1,391,049,709</td>\n",
       "      <td>900,777,621</td>\n",
       "    </tr>\n",
       "    <tr>\n",
       "      <th>534</th>\n",
       "      <td>2021</td>\n",
       "      <td>SAN MARTIN</td>\n",
       "      <td>Total</td>\n",
       "      <td>Total</td>\n",
       "      <td>979,236,074</td>\n",
       "      <td>748,278,886</td>\n",
       "    </tr>\n",
       "    <tr>\n",
       "      <th>535</th>\n",
       "      <td>2021</td>\n",
       "      <td>TACNA</td>\n",
       "      <td>Total</td>\n",
       "      <td>Total</td>\n",
       "      <td>812,132,192</td>\n",
       "      <td>581,298,986</td>\n",
       "    </tr>\n",
       "    <tr>\n",
       "      <th>536</th>\n",
       "      <td>2021</td>\n",
       "      <td>TUMBES</td>\n",
       "      <td>Total</td>\n",
       "      <td>Total</td>\n",
       "      <td>456,966,944</td>\n",
       "      <td>260,154,692</td>\n",
       "    </tr>\n",
       "    <tr>\n",
       "      <th>537</th>\n",
       "      <td>2021</td>\n",
       "      <td>UCAYALI</td>\n",
       "      <td>Total</td>\n",
       "      <td>Total</td>\n",
       "      <td>648,933,696</td>\n",
       "      <td>472,382,204</td>\n",
       "    </tr>\n",
       "  </tbody>\n",
       "</table>\n",
       "<p>538 rows × 6 columns</p>\n",
       "</div>"
      ],
      "text/plain": [
       "      Año Departamento Gobierno Funcion            PIM    Devengado\n",
       "0    2021     AMAZONAS        M      20      2,335,242    1,819,577\n",
       "1    2021       ANCASH        M      20     35,413,285   19,218,220\n",
       "2    2021     APURIMAC        M      20     74,353,775   52,181,701\n",
       "3    2021     AREQUIPA        M      20     39,086,764   19,942,424\n",
       "4    2021     AYACUCHO        M      20     49,700,087   18,912,425\n",
       "..    ...          ...      ...     ...            ...          ...\n",
       "533  2021         PUNO    Total   Total  1,391,049,709  900,777,621\n",
       "534  2021   SAN MARTIN    Total   Total    979,236,074  748,278,886\n",
       "535  2021        TACNA    Total   Total    812,132,192  581,298,986\n",
       "536  2021       TUMBES    Total   Total    456,966,944  260,154,692\n",
       "537  2021      UCAYALI    Total   Total    648,933,696  472,382,204\n",
       "\n",
       "[538 rows x 6 columns]"
      ]
     },
     "execution_count": 241,
     "metadata": {},
     "output_type": "execute_result"
    }
   ],
   "source": []
  },
  {
   "cell_type": "code",
   "execution_count": 242,
   "id": "a21d155e",
   "metadata": {
    "scrolled": true
   },
   "outputs": [],
   "source": [
    "df.to_excel(\"Gasto_MEF_2021.xlsx\",index=False)"
   ]
  }
 ],
 "metadata": {
  "kernelspec": {
   "display_name": "Python 3 (ipykernel)",
   "language": "python",
   "name": "python3"
  },
  "language_info": {
   "codemirror_mode": {
    "name": "ipython",
    "version": 3
   },
   "file_extension": ".py",
   "mimetype": "text/x-python",
   "name": "python",
   "nbconvert_exporter": "python",
   "pygments_lexer": "ipython3",
   "version": "3.9.7"
  }
 },
 "nbformat": 4,
 "nbformat_minor": 5
}
